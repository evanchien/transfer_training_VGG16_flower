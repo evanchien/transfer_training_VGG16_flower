{
 "cells": [
  {
   "cell_type": "markdown",
   "metadata": {},
   "source": [
    "# Transfter training with VGG and flower dataset\n",
    "This is a transfer training practice with keras built-in VGG16 model and the flower dataset on kaggle.  \n",
    "I also randomly pick up some images from google for the tiny test dataset. The weights used in this model is `imagenet` \n",
    "\n",
    "### Environment\n",
    "- Python 3.6\n",
    "- Tensorflow 1.10.0\n",
    "- Keras 2.1.6\n",
    "- CUDA 9.0\n"
   ]
  },
  {
   "cell_type": "code",
   "execution_count": 1,
   "metadata": {},
   "outputs": [
    {
     "name": "stderr",
     "output_type": "stream",
     "text": [
      "Using TensorFlow backend.\n",
      "/home/evan/.virtualenvs/p3env/lib/python3.6/importlib/_bootstrap.py:219: RuntimeWarning: numpy.dtype size changed, may indicate binary incompatibility. Expected 96, got 88\n",
      "  return f(*args, **kwds)\n",
      "/home/evan/.virtualenvs/p3env/lib/python3.6/importlib/_bootstrap.py:219: RuntimeWarning: numpy.dtype size changed, may indicate binary incompatibility. Expected 96, got 88\n",
      "  return f(*args, **kwds)\n"
     ]
    }
   ],
   "source": [
    "from __future__ import print_function, division\n",
    "from builtins import range, input\n",
    "\n",
    "from keras.models import Model\n",
    "from keras.layers import Dense, Flatten, Dropout\n",
    "from keras.applications.vgg16 import VGG16, preprocess_input\n",
    "from keras.preprocessing.image import ImageDataGenerator\n",
    "import matplotlib.pyplot as plt\n",
    "import numpy as np\n",
    "from sklearn.metrics import confusion_matrix\n",
    "import itertools"
   ]
  },
  {
   "cell_type": "code",
   "execution_count": 2,
   "metadata": {},
   "outputs": [],
   "source": [
    "from glob import glob"
   ]
  },
  {
   "cell_type": "code",
   "execution_count": 3,
   "metadata": {},
   "outputs": [],
   "source": [
    "# Fruit 360 image: 100x100x3\n",
    "IMAGE_SIZE = [100, 100]"
   ]
  },
  {
   "cell_type": "code",
   "execution_count": 4,
   "metadata": {},
   "outputs": [],
   "source": [
    "epochs = 25\n",
    "batch_size = 32\n",
    "validation_split = 0.2"
   ]
  },
  {
   "cell_type": "markdown",
   "metadata": {},
   "source": [
    "# Data preparation"
   ]
  },
  {
   "cell_type": "code",
   "execution_count": 5,
   "metadata": {},
   "outputs": [],
   "source": [
    "train_dir = '../../../large_files/flowers/'"
   ]
  },
  {
   "cell_type": "code",
   "execution_count": 6,
   "metadata": {},
   "outputs": [],
   "source": [
    "test_dir = '../../../large_files/flower_test/'"
   ]
  },
  {
   "cell_type": "code",
   "execution_count": 7,
   "metadata": {},
   "outputs": [],
   "source": [
    "# using glob to fetch a list of images\n",
    "image_list = glob(train_dir+'/*/*.jp*g')"
   ]
  },
  {
   "cell_type": "code",
   "execution_count": 8,
   "metadata": {},
   "outputs": [],
   "source": [
    "# using glob to fetch a list of class names\n",
    "folder = glob(train_dir+'/*')"
   ]
  },
  {
   "cell_type": "code",
   "execution_count": 9,
   "metadata": {},
   "outputs": [
    {
     "data": {
      "text/plain": [
       "5"
      ]
     },
     "execution_count": 9,
     "metadata": {},
     "output_type": "execute_result"
    }
   ],
   "source": [
    "len(folder)"
   ]
  },
  {
   "cell_type": "code",
   "execution_count": 10,
   "metadata": {},
   "outputs": [],
   "source": [
    "# Using validation split and subset to seperate training/validation set\n",
    "generator = ImageDataGenerator(\n",
    "  rotation_range=30,\n",
    "  width_shift_range=0.2,\n",
    "  height_shift_range=0.2,\n",
    "  shear_range=0.2,\n",
    "  zoom_range=0.2,\n",
    "  horizontal_flip=True,\n",
    "  vertical_flip=True,\n",
    "  fill_mode = 'wrap',\n",
    "  preprocessing_function=preprocess_input,\n",
    "  validation_split =validation_split\n",
    ")"
   ]
  },
  {
   "cell_type": "code",
   "execution_count": 11,
   "metadata": {},
   "outputs": [
    {
     "name": "stdout",
     "output_type": "stream",
     "text": [
      "Found 3462 images belonging to 5 classes.\n"
     ]
    }
   ],
   "source": [
    "train_gen = generator.flow_from_directory(train_dir,\n",
    "                                          target_size=IMAGE_SIZE, \n",
    "                                          batch_size=batch_size, \n",
    "                                          shuffle=True,\n",
    "                                         subset='training')"
   ]
  },
  {
   "cell_type": "code",
   "execution_count": 12,
   "metadata": {},
   "outputs": [
    {
     "name": "stdout",
     "output_type": "stream",
     "text": [
      "Found 861 images belonging to 5 classes.\n"
     ]
    }
   ],
   "source": [
    "val_gen = generator.flow_from_directory(train_dir, \n",
    "                                         target_size=IMAGE_SIZE, \n",
    "                                         batch_size=batch_size, \n",
    "                                         shuffle=True,\n",
    "                                        subset='validation')"
   ]
  },
  {
   "cell_type": "code",
   "execution_count": 13,
   "metadata": {},
   "outputs": [
    {
     "data": {
      "text/plain": [
       "{'daisy': 0, 'dandelion': 1, 'rose': 2, 'sunflower': 3, 'tulip': 4}"
      ]
     },
     "execution_count": 13,
     "metadata": {},
     "output_type": "execute_result"
    }
   ],
   "source": [
    "train_gen.class_indices"
   ]
  },
  {
   "cell_type": "code",
   "execution_count": 14,
   "metadata": {},
   "outputs": [
    {
     "data": {
      "text/plain": [
       "3462"
      ]
     },
     "execution_count": 14,
     "metadata": {},
     "output_type": "execute_result"
    }
   ],
   "source": [
    "train_gen.samples"
   ]
  },
  {
   "cell_type": "code",
   "execution_count": 15,
   "metadata": {},
   "outputs": [],
   "source": [
    "# initializing label list and feeding in classes/indices\n",
    "labels = [None]*len(train_gen.class_indices)\n",
    "\n",
    "for item, indice in train_gen.class_indices.items():\n",
    "    labels[indice] = item"
   ]
  },
  {
   "cell_type": "code",
   "execution_count": 16,
   "metadata": {},
   "outputs": [
    {
     "data": {
      "text/plain": [
       "['daisy', 'dandelion', 'rose', 'sunflower', 'tulip']"
      ]
     },
     "execution_count": 16,
     "metadata": {},
     "output_type": "execute_result"
    }
   ],
   "source": [
    "labels"
   ]
  },
  {
   "cell_type": "markdown",
   "metadata": {},
   "source": [
    "# Model construction"
   ]
  },
  {
   "cell_type": "code",
   "execution_count": 17,
   "metadata": {},
   "outputs": [],
   "source": [
    "# do not include top fully-connected layer for customized training\n",
    "vgg_model = VGG16(include_top=False, input_shape = IMAGE_SIZE + [3], weights='imagenet')"
   ]
  },
  {
   "cell_type": "code",
   "execution_count": 18,
   "metadata": {},
   "outputs": [],
   "source": [
    "# Do not update weights as we use imagenet weights\n",
    "for layer in vgg_model.layers:\n",
    "    layer.trainable = False"
   ]
  },
  {
   "cell_type": "code",
   "execution_count": 19,
   "metadata": {},
   "outputs": [],
   "source": [
    "x = Flatten()(vgg_model.output)"
   ]
  },
  {
   "cell_type": "code",
   "execution_count": 20,
   "metadata": {},
   "outputs": [],
   "source": [
    "# x = Dense(48, activation='relu')(x)\n",
    "# x = Dropout(0.5)(x)"
   ]
  },
  {
   "cell_type": "code",
   "execution_count": 21,
   "metadata": {},
   "outputs": [],
   "source": [
    "# changing the output class number to our data class numbers\n",
    "prediction = Dense(len(folder),activation='softmax')(x)"
   ]
  },
  {
   "cell_type": "code",
   "execution_count": 22,
   "metadata": {},
   "outputs": [],
   "source": [
    "model = Model(inputs=vgg_model.input, outputs=prediction)"
   ]
  },
  {
   "cell_type": "code",
   "execution_count": 23,
   "metadata": {},
   "outputs": [
    {
     "name": "stdout",
     "output_type": "stream",
     "text": [
      "_________________________________________________________________\n",
      "Layer (type)                 Output Shape              Param #   \n",
      "=================================================================\n",
      "input_1 (InputLayer)         (None, 100, 100, 3)       0         \n",
      "_________________________________________________________________\n",
      "block1_conv1 (Conv2D)        (None, 100, 100, 64)      1792      \n",
      "_________________________________________________________________\n",
      "block1_conv2 (Conv2D)        (None, 100, 100, 64)      36928     \n",
      "_________________________________________________________________\n",
      "block1_pool (MaxPooling2D)   (None, 50, 50, 64)        0         \n",
      "_________________________________________________________________\n",
      "block2_conv1 (Conv2D)        (None, 50, 50, 128)       73856     \n",
      "_________________________________________________________________\n",
      "block2_conv2 (Conv2D)        (None, 50, 50, 128)       147584    \n",
      "_________________________________________________________________\n",
      "block2_pool (MaxPooling2D)   (None, 25, 25, 128)       0         \n",
      "_________________________________________________________________\n",
      "block3_conv1 (Conv2D)        (None, 25, 25, 256)       295168    \n",
      "_________________________________________________________________\n",
      "block3_conv2 (Conv2D)        (None, 25, 25, 256)       590080    \n",
      "_________________________________________________________________\n",
      "block3_conv3 (Conv2D)        (None, 25, 25, 256)       590080    \n",
      "_________________________________________________________________\n",
      "block3_pool (MaxPooling2D)   (None, 12, 12, 256)       0         \n",
      "_________________________________________________________________\n",
      "block4_conv1 (Conv2D)        (None, 12, 12, 512)       1180160   \n",
      "_________________________________________________________________\n",
      "block4_conv2 (Conv2D)        (None, 12, 12, 512)       2359808   \n",
      "_________________________________________________________________\n",
      "block4_conv3 (Conv2D)        (None, 12, 12, 512)       2359808   \n",
      "_________________________________________________________________\n",
      "block4_pool (MaxPooling2D)   (None, 6, 6, 512)         0         \n",
      "_________________________________________________________________\n",
      "block5_conv1 (Conv2D)        (None, 6, 6, 512)         2359808   \n",
      "_________________________________________________________________\n",
      "block5_conv2 (Conv2D)        (None, 6, 6, 512)         2359808   \n",
      "_________________________________________________________________\n",
      "block5_conv3 (Conv2D)        (None, 6, 6, 512)         2359808   \n",
      "_________________________________________________________________\n",
      "block5_pool (MaxPooling2D)   (None, 3, 3, 512)         0         \n",
      "_________________________________________________________________\n",
      "flatten_1 (Flatten)          (None, 4608)              0         \n",
      "_________________________________________________________________\n",
      "dense_1 (Dense)              (None, 5)                 23045     \n",
      "=================================================================\n",
      "Total params: 14,737,733\n",
      "Trainable params: 23,045\n",
      "Non-trainable params: 14,714,688\n",
      "_________________________________________________________________\n"
     ]
    }
   ],
   "source": [
    "model.summary()"
   ]
  },
  {
   "cell_type": "code",
   "execution_count": 24,
   "metadata": {},
   "outputs": [],
   "source": [
    "model.compile(\n",
    "    optimizer='Adam', \n",
    "    loss='categorical_crossentropy',\n",
    "    metrics=['accuracy'])"
   ]
  },
  {
   "cell_type": "code",
   "execution_count": 25,
   "metadata": {},
   "outputs": [
    {
     "name": "stdout",
     "output_type": "stream",
     "text": [
      "Epoch 1/25\n",
      "108/108 [==============================] - 39s 357ms/step - loss: 4.9082 - acc: 0.5729 - val_loss: 3.6324 - val_acc: 0.6678\n",
      "Epoch 2/25\n",
      "108/108 [==============================] - 29s 269ms/step - loss: 3.2814 - acc: 0.7052 - val_loss: 3.4165 - val_acc: 0.7027\n",
      "Epoch 3/25\n",
      "108/108 [==============================] - 29s 267ms/step - loss: 3.1435 - acc: 0.7279 - val_loss: 3.5960 - val_acc: 0.7073\n",
      "Epoch 4/25\n",
      "108/108 [==============================] - 29s 267ms/step - loss: 2.9596 - acc: 0.7458 - val_loss: 3.4535 - val_acc: 0.7108\n",
      "Epoch 5/25\n",
      "108/108 [==============================] - 29s 271ms/step - loss: 2.8614 - acc: 0.7655 - val_loss: 3.6359 - val_acc: 0.7096\n",
      "Epoch 6/25\n",
      "108/108 [==============================] - 30s 281ms/step - loss: 2.6393 - acc: 0.7801 - val_loss: 3.1609 - val_acc: 0.7468\n",
      "Epoch 7/25\n",
      "108/108 [==============================] - 28s 261ms/step - loss: 2.7708 - acc: 0.7683 - val_loss: 3.3029 - val_acc: 0.7340\n",
      "Epoch 8/25\n",
      "108/108 [==============================] - 28s 257ms/step - loss: 2.6034 - acc: 0.7806 - val_loss: 3.3938 - val_acc: 0.7329\n",
      "Epoch 9/25\n",
      "108/108 [==============================] - 28s 263ms/step - loss: 2.9537 - acc: 0.7690 - val_loss: 3.5391 - val_acc: 0.7259\n",
      "Epoch 10/25\n",
      "108/108 [==============================] - 27s 247ms/step - loss: 2.5906 - acc: 0.7880 - val_loss: 3.6592 - val_acc: 0.7131\n",
      "Epoch 11/25\n",
      "108/108 [==============================] - 26s 243ms/step - loss: 2.6954 - acc: 0.7814 - val_loss: 3.0258 - val_acc: 0.7561\n",
      "Epoch 12/25\n",
      "108/108 [==============================] - 26s 242ms/step - loss: 2.8410 - acc: 0.7725 - val_loss: 3.4217 - val_acc: 0.7387\n",
      "Epoch 13/25\n",
      "108/108 [==============================] - 26s 243ms/step - loss: 2.6915 - acc: 0.7906 - val_loss: 3.4642 - val_acc: 0.7387\n",
      "Epoch 14/25\n",
      "108/108 [==============================] - 26s 243ms/step - loss: 2.5450 - acc: 0.8008 - val_loss: 3.3271 - val_acc: 0.7468\n",
      "Epoch 15/25\n",
      "108/108 [==============================] - 26s 238ms/step - loss: 2.6003 - acc: 0.7969 - val_loss: 3.2555 - val_acc: 0.7433\n",
      "Epoch 16/25\n",
      "108/108 [==============================] - 26s 239ms/step - loss: 2.4226 - acc: 0.8114 - val_loss: 3.5142 - val_acc: 0.7410\n",
      "Epoch 17/25\n",
      "108/108 [==============================] - 26s 245ms/step - loss: 2.4804 - acc: 0.8122 - val_loss: 3.3338 - val_acc: 0.7526\n",
      "Epoch 18/25\n",
      "108/108 [==============================] - 26s 244ms/step - loss: 2.6877 - acc: 0.7911 - val_loss: 3.6977 - val_acc: 0.7120\n",
      "Epoch 19/25\n",
      "108/108 [==============================] - 26s 242ms/step - loss: 2.7014 - acc: 0.7935 - val_loss: 3.4234 - val_acc: 0.7375\n",
      "Epoch 20/25\n",
      "108/108 [==============================] - 27s 248ms/step - loss: 2.5811 - acc: 0.8047 - val_loss: 3.3984 - val_acc: 0.7526\n",
      "Epoch 21/25\n",
      "108/108 [==============================] - 26s 238ms/step - loss: 2.5760 - acc: 0.8047 - val_loss: 3.3783 - val_acc: 0.7526\n",
      "Epoch 22/25\n",
      "108/108 [==============================] - 26s 240ms/step - loss: 2.6685 - acc: 0.8015 - val_loss: 3.4065 - val_acc: 0.7538\n",
      "Epoch 23/25\n",
      "108/108 [==============================] - 25s 233ms/step - loss: 2.7562 - acc: 0.7929 - val_loss: 3.4590 - val_acc: 0.7456\n",
      "Epoch 24/25\n",
      "108/108 [==============================] - 26s 244ms/step - loss: 2.4711 - acc: 0.8122 - val_loss: 3.3777 - val_acc: 0.7503\n",
      "Epoch 25/25\n",
      "108/108 [==============================] - 25s 232ms/step - loss: 2.6089 - acc: 0.8073 - val_loss: 3.4051 - val_acc: 0.7433\n"
     ]
    }
   ],
   "source": [
    "result = model.fit_generator(generator=train_gen, \n",
    "                    steps_per_epoch = train_gen.samples//batch_size,\n",
    "                    epochs=epochs, \n",
    "                    validation_data=val_gen,\n",
    "                    validation_steps=val_gen.samples//batch_size,\n",
    "                    shuffle=True)"
   ]
  },
  {
   "cell_type": "code",
   "execution_count": 26,
   "metadata": {},
   "outputs": [],
   "source": [
    "model.save('vgg_flower_50epoch_100.h5')"
   ]
  },
  {
   "cell_type": "markdown",
   "metadata": {},
   "source": [
    "# Result and confusion matrix"
   ]
  },
  {
   "cell_type": "code",
   "execution_count": 27,
   "metadata": {},
   "outputs": [
    {
     "data": {
      "image/png": "[encoded data removed]",
      "text/plain": [
       "<Figure size 432x288 with 1 Axes>"
      ]
     },
     "metadata": {},
     "output_type": "display_data"
    },
    {
     "data": {
      "image/png": "[encoded data removed]",
      "text/plain": [
       "<Figure size 432x288 with 1 Axes>"
      ]
     },
     "metadata": {},
     "output_type": "display_data"
    }
   ],
   "source": [
    "# loss\n",
    "plt.plot(result.history['loss'], label='train loss')\n",
    "plt.plot(result.history['val_loss'], label='val loss')\n",
    "plt.legend()\n",
    "plt.show()\n",
    "\n",
    "# accuracies\n",
    "plt.plot(result.history['acc'], label='train acc')\n",
    "plt.plot(result.history['val_acc'], label='val acc')\n",
    "plt.legend()\n",
    "plt.show()"
   ]
  },
  {
   "cell_type": "code",
   "execution_count": 28,
   "metadata": {},
   "outputs": [],
   "source": [
    "def get_conf_matrix(data_dir, size):\n",
    "    predictions =[]\n",
    "    true_y = []\n",
    "\n",
    "    for x,y in generator.flow_from_directory(data_dir, batch_size=5, target_size=IMAGE_SIZE,shuffle=False):\n",
    "        prediction = model.predict(x)\n",
    "        \n",
    "        # decoding one-hot\n",
    "        prediction = np.argmax(prediction, axis=1)\n",
    "        y = np.argmax(y, axis =1)\n",
    "        \n",
    "        predictions = np.concatenate((predictions, prediction))\n",
    "        true_y = np.concatenate((true_y, y))\n",
    "        if len(predictions) >=size:\n",
    "            break\n",
    "    matrix = confusion_matrix(true_y, predictions)\n",
    "    return matrix"
   ]
  },
  {
   "cell_type": "code",
   "execution_count": 29,
   "metadata": {},
   "outputs": [],
   "source": [
    "from keras.models import load_model"
   ]
  },
  {
   "cell_type": "code",
   "execution_count": 30,
   "metadata": {},
   "outputs": [],
   "source": [
    "model =load_model('vgg_flower_50epoch_100.h5')"
   ]
  },
  {
   "cell_type": "code",
   "execution_count": 31,
   "metadata": {},
   "outputs": [],
   "source": [
    "# test on a tiny test set\n",
    "test_img_list = glob(test_dir+'*/*.jp*g')"
   ]
  },
  {
   "cell_type": "code",
   "execution_count": 32,
   "metadata": {},
   "outputs": [
    {
     "data": {
      "text/plain": [
       "25"
      ]
     },
     "execution_count": 32,
     "metadata": {},
     "output_type": "execute_result"
    }
   ],
   "source": [
    "len(test_img_list)"
   ]
  },
  {
   "cell_type": "code",
   "execution_count": 33,
   "metadata": {},
   "outputs": [
    {
     "name": "stdout",
     "output_type": "stream",
     "text": [
      "Found 25 images belonging to 5 classes.\n"
     ]
    }
   ],
   "source": [
    "conf_matrix = get_conf_matrix(test_dir, len(test_img_list))"
   ]
  },
  {
   "cell_type": "code",
   "execution_count": 34,
   "metadata": {},
   "outputs": [
    {
     "name": "stdout",
     "output_type": "stream",
     "text": [
      "[[4 0 0 1 0]\n",
      " [0 5 0 0 0]\n",
      " [0 0 5 0 0]\n",
      " [0 0 0 5 0]\n",
      " [0 0 0 0 5]]\n"
     ]
    }
   ],
   "source": [
    "print(conf_matrix)"
   ]
  },
  {
   "cell_type": "code",
   "execution_count": 35,
   "metadata": {},
   "outputs": [],
   "source": [
    "def plot_confusion_matrix(cm, classes,\n",
    "                          normalize=False,\n",
    "                          title='Confusion matrix',\n",
    "                          cmap=plt.cm.Blues):\n",
    "    \"\"\"\n",
    "    This function prints and plots the confusion matrix.\n",
    "    Normalization can be applied by setting `normalize=True`.\n",
    "    \"\"\"\n",
    "    if normalize:\n",
    "        cm = cm.astype('float') / cm.sum(axis=1)[:, np.newaxis]\n",
    "        print(\"Normalized confusion matrix\")\n",
    "    else:\n",
    "        print('Confusion matrix, without normalization')\n",
    "\n",
    "    print(cm)\n",
    "\n",
    "    plt.imshow(cm, interpolation='nearest', cmap=cmap)\n",
    "    plt.title(title)\n",
    "    plt.colorbar()\n",
    "    tick_marks = np.arange(len(classes))\n",
    "    plt.xticks(tick_marks, classes, rotation=45)\n",
    "    plt.yticks(tick_marks, classes)\n",
    "\n",
    "    fmt = '.2f' if normalize else 'd'\n",
    "    thresh = cm.max() / 2.\n",
    "    for i, j in itertools.product(range(cm.shape[0]), range(cm.shape[1])):\n",
    "        plt.text(j, i, format(cm[i, j], fmt),\n",
    "                 horizontalalignment=\"center\",\n",
    "                 color=\"white\" if cm[i, j] > thresh else \"black\")\n",
    "\n",
    "    plt.tight_layout()\n",
    "    plt.ylabel('True label')\n",
    "    plt.xlabel('Predicted label')"
   ]
  },
  {
   "cell_type": "code",
   "execution_count": 36,
   "metadata": {},
   "outputs": [
    {
     "name": "stdout",
     "output_type": "stream",
     "text": [
      "Confusion matrix, without normalization\n",
      "[[4 0 0 1 0]\n",
      " [0 5 0 0 0]\n",
      " [0 0 5 0 0]\n",
      " [0 0 0 5 0]\n",
      " [0 0 0 0 5]]\n"
     ]
    },
    {
     "data": {
      "image/png": "[encoded data removed]",
      "text/plain": [
       "<Figure size 432x288 with 2 Axes>"
      ]
     },
     "metadata": {},
     "output_type": "display_data"
    }
   ],
   "source": [
    "plot_confusion_matrix(conf_matrix, labels, title = \"Test confusion matrix\")"
   ]
  },
  {
   "cell_type": "code",
   "execution_count": 37,
   "metadata": {},
   "outputs": [],
   "source": [
    "from keras import backend as K\n",
    "K.clear_session()"
   ]
  },
  {
   "cell_type": "code",
   "execution_count": null,
   "metadata": {},
   "outputs": [],
   "source": []
  }
 ],
 "metadata": {
  "kernelspec": {
   "display_name": "Python 3",
   "language": "python",
   "name": "python3"
  },
  "language_info": {
   "codemirror_mode": {
    "name": "ipython",
    "version": 3
   },
   "file_extension": ".py",
   "mimetype": "text/x-python",
   "name": "python",
   "nbconvert_exporter": "python",
   "pygments_lexer": "ipython3",
   "version": "3.6.5"
  }
 },
 "nbformat": 4,
 "nbformat_minor": 2
}
